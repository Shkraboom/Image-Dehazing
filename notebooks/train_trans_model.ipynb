{
 "cells": [
  {
   "cell_type": "code",
   "execution_count": 4,
   "metadata": {},
   "outputs": [],
   "source": [
    "import sys\n",
    "sys.path.append('/Image-Dehazing/src')\n",
    "\n",
    "import h5py\n",
    "import matplotlib.pyplot as plt\n",
    "import numpy as np\n",
    "\n",
    "import torch\n",
    "import torch.nn as nn\n",
    "import torch.optim as optim\n",
    "from torch.utils.data import TensorDataset, DataLoader\n",
    "\n",
    "from transmission_model import TransmissionModel"
   ]
  },
  {
   "cell_type": "code",
   "execution_count": 2,
   "metadata": {},
   "outputs": [],
   "source": [
    "file = '/home/shkraboom/Рабочий стол/Image Dehazing/train_data.hdf5'\n",
    "\n",
    "train_dataset = h5py.File(file, 'r')\n",
    "\n",
    "haze_images = np.array(train_dataset['haze_image'])\n",
    "clear_images = np.array(train_dataset['clear_image'])\n",
    "transmission_value = np.array(train_dataset['transmission_value'])\n",
    "\n",
    "transmission_value = np.expand_dims(transmission_value, axis=(1, 2, 3))"
   ]
  },
  {
   "cell_type": "code",
   "execution_count": 3,
   "metadata": {},
   "outputs": [],
   "source": [
    "model = TransmissionModel()\n",
    "loss_fn = nn.MSELoss()\n",
    "optimizer = optim.SGD(model.parameters(), lr = 0.001)\n",
    "lr_scheduler = optim.lr_scheduler.StepLR(optimizer = optimizer, step_size = 10, gamma = 0.1)\n",
    "num_epochs = 100"
   ]
  },
  {
   "cell_type": "code",
   "execution_count": 4,
   "metadata": {},
   "outputs": [],
   "source": [
    "def set_seed(seed):\n",
    "    \"\"\"\n",
    "    Function for seed setting\n",
    "    \"\"\"\n",
    "\n",
    "    torch.manual_seed(seed)\n",
    "    torch.cuda.manual_seed(seed)\n",
    "    np.random.seed(seed)\n",
    "    torch.backends.cudnn.deterministic = True\n",
    "    torch.backends.cudnn.benchmark = False\n",
    "\n",
    "def train_trans_model(num_epochs, model, loss_fn, optimizer, haze_images, transmission_value, device = 'cuda', seed = 42, lr_scheduler = None):\n",
    "    \"\"\"\n",
    "    Function for training transmission model\n",
    "    \"\"\"\n",
    "\n",
    "    set_seed(seed)\n",
    "\n",
    "    model.to(device)\n",
    "\n",
    "    haze_images_tensor = torch.tensor(haze_images.transpose(0, 3, 1, 2)).float().to(device)\n",
    "    transmission_value_tensor = torch.tensor(transmission_value).float().to(device)\n",
    "\n",
    "    dataset = TensorDataset(haze_images_tensor, transmission_value_tensor)\n",
    "    batches = DataLoader(dataset = dataset, batch_size = 30, shuffle = True)\n",
    "\n",
    "    for epoch in range(num_epochs):\n",
    "        model.train()\n",
    "\n",
    "        loss_epoch = 0.0\n",
    "\n",
    "        for batch_idx, batch in enumerate(batches):\n",
    "            haze_images_batch, transmission_value_batch = batch\n",
    "\n",
    "            loss_train = 0.0\n",
    "\n",
    "            optimizer.zero_grad()\n",
    "\n",
    "            predict = model(haze_images_batch)\n",
    "\n",
    "            loss = loss_fn(transmission_value_batch, predict)\n",
    "\n",
    "            loss.backward()\n",
    "\n",
    "            optimizer.step()\n",
    "\n",
    "            loss_epoch += loss.item()\n",
    "        \n",
    "        print(f'Epoch: {epoch + 1} Loss epoch: {loss_epoch / len(batches)}')\n",
    "\n",
    "        if lr_scheduler:\n",
    "            lr_scheduler.step()\n"
   ]
  },
  {
   "cell_type": "code",
   "execution_count": null,
   "metadata": {},
   "outputs": [],
   "source": [
    "train_trans_model(num_epochs = num_epochs, model = model, loss_fn = loss_fn, optimizer = optimizer, haze_images = haze_images, transmission_value = transmission_value, lr_scheduler = lr_scheduler)"
   ]
  },
  {
   "cell_type": "code",
   "execution_count": 142,
   "metadata": {},
   "outputs": [],
   "source": [
    "torch.save(model.state_dict(), 'trans_model_weights.pt')"
   ]
  }
 ],
 "metadata": {
  "kernelspec": {
   "display_name": "base",
   "language": "python",
   "name": "python3"
  },
  "language_info": {
   "codemirror_mode": {
    "name": "ipython",
    "version": 3
   },
   "file_extension": ".py",
   "mimetype": "text/x-python",
   "name": "python",
   "nbconvert_exporter": "python",
   "pygments_lexer": "ipython3",
   "version": "3.10.9"
  }
 },
 "nbformat": 4,
 "nbformat_minor": 2
}
